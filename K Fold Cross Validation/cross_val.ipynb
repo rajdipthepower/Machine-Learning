{
 "cells": [
  {
   "cell_type": "code",
   "execution_count": null,
   "id": "75c8bbeb",
   "metadata": {},
   "outputs": [],
   "source": [
    "import numpy as np\n",
    "from sklearn.linear_model import LogisticRegression\n",
    "from sklearn.svm import SVC\n",
    "from sklearn.ensemble import RandomForestClassifier\n",
    "from sklearn.model_selection import KFold,StratifiedKFold,cross_val_score\n",
    "from sklearn.datasets import load_iris"
   ]
  },
  {
   "cell_type": "code",
   "execution_count": 16,
   "id": "d351a451",
   "metadata": {},
   "outputs": [],
   "source": [
    "df = load_iris()\n",
    "X = df.data\n",
    "Y = df.target"
   ]
  },
  {
   "cell_type": "code",
   "execution_count": 21,
   "id": "3166d066",
   "metadata": {},
   "outputs": [
    {
     "name": "stdout",
     "output_type": "stream",
     "text": [
      "fold 0 \n",
      " [  1   2   3   4   5   6   7   9  10  12  13  16  17  19  22  23  24  25\n",
      "  26  28  30  31  32  35  37  40  41  42  43  44  45  46  48  49  50  52\n",
      "  53  56  57  58  59  60  62  63  64  65  66  67  70  73  74  75  76  77\n",
      "  80  85  87  88  89  91  94  95  96  97 100 101 102 103 105 106 107 109\n",
      " 110 112 113 114 115 116 117 118 119 120 121 122 125 126 127 128 130 132\n",
      " 133 136 138 140 143 144 145 146 147 148] \n",
      " [  0   8  11  14  15  18  20  21  27  29  33  34  36  38  39  47  51  54\n",
      "  55  61  68  69  71  72  78  79  81  82  83  84  86  90  92  93  98  99\n",
      " 104 108 111 123 124 129 131 134 135 137 139 141 142 149]\n",
      "fold 1 \n",
      " [  0   3   4   6   8  10  11  13  14  15  18  19  20  21  22  23  25  26\n",
      "  27  29  32  33  34  35  36  38  39  40  41  46  47  49  50  51  54  55\n",
      "  56  61  62  67  68  69  70  71  72  76  78  79  80  81  82  83  84  86\n",
      "  87  88  89  90  91  92  93  94  98  99 100 101 102 103 104 106 107 108\n",
      " 109 111 112 117 119 120 122 123 124 125 127 128 129 130 131 132 134 135\n",
      " 137 139 140 141 142 143 144 146 147 149] \n",
      " [  1   2   5   7   9  12  16  17  24  28  30  31  37  42  43  44  45  48\n",
      "  52  53  57  58  59  60  63  64  65  66  73  74  75  77  85  95  96  97\n",
      " 105 110 113 114 115 116 118 121 126 133 136 138 145 148]\n",
      "fold 2 \n",
      " [  0   1   2   5   7   8   9  11  12  14  15  16  17  18  20  21  24  27\n",
      "  28  29  30  31  33  34  36  37  38  39  42  43  44  45  47  48  51  52\n",
      "  53  54  55  57  58  59  60  61  63  64  65  66  68  69  71  72  73  74\n",
      "  75  77  78  79  81  82  83  84  85  86  90  92  93  95  96  97  98  99\n",
      " 104 105 108 110 111 113 114 115 116 118 121 123 124 126 129 131 133 134\n",
      " 135 136 137 138 139 141 142 145 148 149] \n",
      " [  3   4   6  10  13  19  22  23  25  26  32  35  40  41  46  49  50  56\n",
      "  62  67  70  76  80  87  88  89  91  94 100 101 102 103 106 107 109 112\n",
      " 117 119 120 122 125 127 128 130 132 140 143 144 146 147]\n"
     ]
    }
   ],
   "source": [
    "kf = KFold(n_splits = 3,shuffle = True)\n",
    "for fold,(train_index,test_index) in enumerate(kf.split(X,Y)):\n",
    "    print(f\"fold {fold} \\n {train_index} \\n {test_index}\" )"
   ]
  },
  {
   "cell_type": "code",
   "execution_count": 24,
   "id": "6ff9e7b7",
   "metadata": {},
   "outputs": [
    {
     "name": "stdout",
     "output_type": "stream",
     "text": [
      "fold 0 \n",
      " [  0   1   2   6   9  10  11  14  15  16  17  19  20  21  22  23  24  26\n",
      "  27  28  29  32  33  35  38  42  43  44  45  46  47  48  49  50  51  58\n",
      "  59  60  61  62  63  64  65  66  68  70  72  73  74  75  76  77  78  79\n",
      "  80  81  83  85  86  87  88  89  90  92  94  97 100 101 102 103 104 106\n",
      " 113 115 116 119 120 121 122 123 124 125 128 129 130 132 133 136 137 138\n",
      " 139 140 141 142 143 144 145 146 147 149] \n",
      " [  3   4   5   7   8  12  13  18  25  30  31  34  36  37  39  40  41  52\n",
      "  53  54  55  56  57  67  69  71  82  84  91  93  95  96  98  99 105 107\n",
      " 108 109 110 111 112 114 117 118 126 127 131 134 135 148]\n",
      "fold 1 \n",
      " [  0   3   4   5   7   8   9  10  12  13  14  16  18  19  21  23  24  25\n",
      "  28  29  30  31  34  35  36  37  38  39  40  41  43  45  46  50  52  53\n",
      "  54  55  56  57  58  59  61  63  66  67  69  70  71  75  77  78  79  80\n",
      "  82  83  84  85  89  91  92  93  95  96  97  98  99 100 101 103 105 107\n",
      " 108 109 110 111 112 114 117 118 120 122 123 124 126 127 128 130 131 132\n",
      " 133 134 135 138 139 141 143 147 148 149] \n",
      " [  1   2   6  11  15  17  20  22  26  27  32  33  42  44  47  48  49  51\n",
      "  60  62  64  65  68  72  73  74  76  81  86  87  88  90  94 102 104 106\n",
      " 113 115 116 119 121 125 129 136 137 140 142 144 145 146]\n",
      "fold 2 \n",
      " [  1   2   3   4   5   6   7   8  11  12  13  15  17  18  20  22  25  26\n",
      "  27  30  31  32  33  34  36  37  39  40  41  42  44  47  48  49  51  52\n",
      "  53  54  55  56  57  60  62  64  65  67  68  69  71  72  73  74  76  81\n",
      "  82  84  86  87  88  90  91  93  94  95  96  98  99 102 104 105 106 107\n",
      " 108 109 110 111 112 113 114 115 116 117 118 119 121 125 126 127 129 131\n",
      " 134 135 136 137 140 142 144 145 146 148] \n",
      " [  0   9  10  14  16  19  21  23  24  28  29  35  38  43  45  46  50  58\n",
      "  59  61  63  66  70  75  77  78  79  80  83  85  89  92  97 100 101 103\n",
      " 120 122 123 124 128 130 132 133 138 139 141 143 147 149]\n"
     ]
    }
   ],
   "source": [
    "k = StratifiedKFold(n_splits=3,shuffle = True)\n",
    "for fold,(train,test) in enumerate(k.split(X,Y)):\n",
    "    print(f\"fold {fold} \\n {train} \\n {test}\" )"
   ]
  },
  {
   "cell_type": "code",
   "execution_count": 27,
   "id": "ecf115d8",
   "metadata": {},
   "outputs": [
    {
     "name": "stdout",
     "output_type": "stream",
     "text": [
      "Logistic Regression[1.0, 0.94, 0.94] \n",
      " Support Vector Machine[1.0, 0.96, 0.94] \n",
      " Random Forest[0.98, 0.94, 0.9]\n"
     ]
    }
   ],
   "source": [
    "def func(model,x,y,m,n):\n",
    "    model.fit(x,y)\n",
    "    return model.score(m,n)\n",
    "\n",
    "a,b,c = [],[],[]\n",
    "for train_index,test_index in k.split(X,Y):\n",
    "    traindata , traintarget = X[train_index],Y[train_index]\n",
    "    testdata , testtarget = X[test_index],Y[test_index]\n",
    "    a.append(func(LogisticRegression(),traindata,traintarget,testdata,testtarget))\n",
    "    b.append(func(SVC(),traindata,traintarget,testdata,testtarget))\n",
    "    c.append(func(RandomForestClassifier(),traindata,traintarget,testdata,testtarget))\n",
    "\n",
    "print(f\"Logistic Regression{a} \\n Support Vector Machine{b} \\n Random Forest{c}\")"
   ]
  },
  {
   "cell_type": "code",
   "execution_count": 37,
   "id": "c8a08e4b",
   "metadata": {},
   "outputs": [
    {
     "data": {
      "text/plain": [
       "np.float64(0.9533333333333333)"
      ]
     },
     "execution_count": 37,
     "metadata": {},
     "output_type": "execute_result"
    }
   ],
   "source": [
    "np.average(cross_val_score(LogisticRegression(solver=\"liblinear\"),X,Y,cv = k))"
   ]
  },
  {
   "cell_type": "code",
   "execution_count": 38,
   "id": "a2a3398e",
   "metadata": {},
   "outputs": [
    {
     "data": {
      "text/plain": [
       "np.float64(0.9666666666666667)"
      ]
     },
     "execution_count": 38,
     "metadata": {},
     "output_type": "execute_result"
    }
   ],
   "source": [
    "np.average(cross_val_score(SVC(gamma = 1),X,Y,cv = k))"
   ]
  },
  {
   "cell_type": "code",
   "execution_count": 43,
   "id": "f682de9a",
   "metadata": {},
   "outputs": [
    {
     "data": {
      "text/plain": [
       "np.float64(0.96)"
      ]
     },
     "execution_count": 43,
     "metadata": {},
     "output_type": "execute_result"
    }
   ],
   "source": [
    "np.average(cross_val_score(RandomForestClassifier(n_estimators=40),X,Y,cv = k))"
   ]
  }
 ],
 "metadata": {
  "kernelspec": {
   "display_name": "ml",
   "language": "python",
   "name": "python3"
  },
  "language_info": {
   "codemirror_mode": {
    "name": "ipython",
    "version": 3
   },
   "file_extension": ".py",
   "mimetype": "text/x-python",
   "name": "python",
   "nbconvert_exporter": "python",
   "pygments_lexer": "ipython3",
   "version": "3.10.6"
  }
 },
 "nbformat": 4,
 "nbformat_minor": 5
}
