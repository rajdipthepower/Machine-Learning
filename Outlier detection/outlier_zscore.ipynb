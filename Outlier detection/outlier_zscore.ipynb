{
 "cells": [
  {
   "cell_type": "code",
   "execution_count": 1,
   "id": "b3b1a3f2",
   "metadata": {},
   "outputs": [],
   "source": [
    "import pandas as pd \n",
    "from scipy.stats import norm\n",
    "import numpy as np\n",
    "import matplotlib.pyplot as plt"
   ]
  },
  {
   "cell_type": "code",
   "execution_count": 2,
   "id": "b4ee575c",
   "metadata": {},
   "outputs": [
    {
     "data": {
      "text/html": [
       "<div>\n",
       "<style scoped>\n",
       "    .dataframe tbody tr th:only-of-type {\n",
       "        vertical-align: middle;\n",
       "    }\n",
       "\n",
       "    .dataframe tbody tr th {\n",
       "        vertical-align: top;\n",
       "    }\n",
       "\n",
       "    .dataframe thead th {\n",
       "        text-align: right;\n",
       "    }\n",
       "</style>\n",
       "<table border=\"1\" class=\"dataframe\">\n",
       "  <thead>\n",
       "    <tr style=\"text-align: right;\">\n",
       "      <th></th>\n",
       "      <th>location</th>\n",
       "      <th>size</th>\n",
       "      <th>total_sqft</th>\n",
       "      <th>bath</th>\n",
       "      <th>price</th>\n",
       "      <th>bhk</th>\n",
       "      <th>price_per_sqft</th>\n",
       "    </tr>\n",
       "  </thead>\n",
       "  <tbody>\n",
       "    <tr>\n",
       "      <th>0</th>\n",
       "      <td>Electronic City Phase II</td>\n",
       "      <td>2 BHK</td>\n",
       "      <td>1056.0</td>\n",
       "      <td>2.0</td>\n",
       "      <td>39.07</td>\n",
       "      <td>2</td>\n",
       "      <td>3699</td>\n",
       "    </tr>\n",
       "    <tr>\n",
       "      <th>1</th>\n",
       "      <td>Chikka Tirupathi</td>\n",
       "      <td>4 Bedroom</td>\n",
       "      <td>2600.0</td>\n",
       "      <td>5.0</td>\n",
       "      <td>120.00</td>\n",
       "      <td>4</td>\n",
       "      <td>4615</td>\n",
       "    </tr>\n",
       "    <tr>\n",
       "      <th>2</th>\n",
       "      <td>Uttarahalli</td>\n",
       "      <td>3 BHK</td>\n",
       "      <td>1440.0</td>\n",
       "      <td>2.0</td>\n",
       "      <td>62.00</td>\n",
       "      <td>3</td>\n",
       "      <td>4305</td>\n",
       "    </tr>\n",
       "    <tr>\n",
       "      <th>3</th>\n",
       "      <td>Lingadheeranahalli</td>\n",
       "      <td>3 BHK</td>\n",
       "      <td>1521.0</td>\n",
       "      <td>3.0</td>\n",
       "      <td>95.00</td>\n",
       "      <td>3</td>\n",
       "      <td>6245</td>\n",
       "    </tr>\n",
       "    <tr>\n",
       "      <th>4</th>\n",
       "      <td>Kothanur</td>\n",
       "      <td>2 BHK</td>\n",
       "      <td>1200.0</td>\n",
       "      <td>2.0</td>\n",
       "      <td>51.00</td>\n",
       "      <td>2</td>\n",
       "      <td>4250</td>\n",
       "    </tr>\n",
       "  </tbody>\n",
       "</table>\n",
       "</div>"
      ],
      "text/plain": [
       "                   location       size  total_sqft  bath   price  bhk  \\\n",
       "0  Electronic City Phase II      2 BHK      1056.0   2.0   39.07    2   \n",
       "1          Chikka Tirupathi  4 Bedroom      2600.0   5.0  120.00    4   \n",
       "2               Uttarahalli      3 BHK      1440.0   2.0   62.00    3   \n",
       "3        Lingadheeranahalli      3 BHK      1521.0   3.0   95.00    3   \n",
       "4                  Kothanur      2 BHK      1200.0   2.0   51.00    2   \n",
       "\n",
       "   price_per_sqft  \n",
       "0            3699  \n",
       "1            4615  \n",
       "2            4305  \n",
       "3            6245  \n",
       "4            4250  "
      ]
     },
     "execution_count": 2,
     "metadata": {},
     "output_type": "execute_result"
    }
   ],
   "source": [
    "df = pd.read_csv(\"bhp.csv\")\n",
    "df.head()"
   ]
  },
  {
   "cell_type": "code",
   "execution_count": 3,
   "id": "2ce9a47d",
   "metadata": {},
   "outputs": [
    {
     "name": "stdout",
     "output_type": "stream",
     "text": [
      "The minimum and maximum values used are 1366.184 and 50959.36200000098\n"
     ]
    },
    {
     "data": {
      "text/html": [
       "<div>\n",
       "<style scoped>\n",
       "    .dataframe tbody tr th:only-of-type {\n",
       "        vertical-align: middle;\n",
       "    }\n",
       "\n",
       "    .dataframe tbody tr th {\n",
       "        vertical-align: top;\n",
       "    }\n",
       "\n",
       "    .dataframe thead th {\n",
       "        text-align: right;\n",
       "    }\n",
       "</style>\n",
       "<table border=\"1\" class=\"dataframe\">\n",
       "  <thead>\n",
       "    <tr style=\"text-align: right;\">\n",
       "      <th></th>\n",
       "      <th>location</th>\n",
       "      <th>size</th>\n",
       "      <th>total_sqft</th>\n",
       "      <th>bath</th>\n",
       "      <th>price</th>\n",
       "      <th>bhk</th>\n",
       "      <th>price_per_sqft</th>\n",
       "    </tr>\n",
       "  </thead>\n",
       "  <tbody>\n",
       "    <tr>\n",
       "      <th>0</th>\n",
       "      <td>Electronic City Phase II</td>\n",
       "      <td>2 BHK</td>\n",
       "      <td>1056.0</td>\n",
       "      <td>2.0</td>\n",
       "      <td>39.07</td>\n",
       "      <td>2</td>\n",
       "      <td>3699</td>\n",
       "    </tr>\n",
       "    <tr>\n",
       "      <th>1</th>\n",
       "      <td>Chikka Tirupathi</td>\n",
       "      <td>4 Bedroom</td>\n",
       "      <td>2600.0</td>\n",
       "      <td>5.0</td>\n",
       "      <td>120.00</td>\n",
       "      <td>4</td>\n",
       "      <td>4615</td>\n",
       "    </tr>\n",
       "    <tr>\n",
       "      <th>2</th>\n",
       "      <td>Uttarahalli</td>\n",
       "      <td>3 BHK</td>\n",
       "      <td>1440.0</td>\n",
       "      <td>2.0</td>\n",
       "      <td>62.00</td>\n",
       "      <td>3</td>\n",
       "      <td>4305</td>\n",
       "    </tr>\n",
       "    <tr>\n",
       "      <th>3</th>\n",
       "      <td>Lingadheeranahalli</td>\n",
       "      <td>3 BHK</td>\n",
       "      <td>1521.0</td>\n",
       "      <td>3.0</td>\n",
       "      <td>95.00</td>\n",
       "      <td>3</td>\n",
       "      <td>6245</td>\n",
       "    </tr>\n",
       "    <tr>\n",
       "      <th>4</th>\n",
       "      <td>Kothanur</td>\n",
       "      <td>2 BHK</td>\n",
       "      <td>1200.0</td>\n",
       "      <td>2.0</td>\n",
       "      <td>51.00</td>\n",
       "      <td>2</td>\n",
       "      <td>4250</td>\n",
       "    </tr>\n",
       "  </tbody>\n",
       "</table>\n",
       "</div>"
      ],
      "text/plain": [
       "                   location       size  total_sqft  bath   price  bhk  \\\n",
       "0  Electronic City Phase II      2 BHK      1056.0   2.0   39.07    2   \n",
       "1          Chikka Tirupathi  4 Bedroom      2600.0   5.0  120.00    4   \n",
       "2               Uttarahalli      3 BHK      1440.0   2.0   62.00    3   \n",
       "3        Lingadheeranahalli      3 BHK      1521.0   3.0   95.00    3   \n",
       "4                  Kothanur      2 BHK      1200.0   2.0   51.00    2   \n",
       "\n",
       "   price_per_sqft  \n",
       "0            3699  \n",
       "1            4615  \n",
       "2            4305  \n",
       "3            6245  \n",
       "4            4250  "
      ]
     },
     "execution_count": 3,
     "metadata": {},
     "output_type": "execute_result"
    }
   ],
   "source": [
    "min,max = df[\"price_per_sqft\"].quantile([0.001,0.999])\n",
    "df_quartiles = df[(df[\"price_per_sqft\"]>min) & (df[\"price_per_sqft\"]<max)]\n",
    "print(f\"The minimum and maximum values used are {min} and {max}\")\n",
    "df_quartiles.head()"
   ]
  },
  {
   "cell_type": "code",
   "execution_count": 68,
   "id": "4a9139fc",
   "metadata": {},
   "outputs": [],
   "source": [
    "std,mu = df_quartiles[\"price_per_sqft\"].std(),df_quartiles[\"price_per_sqft\"].mean()\n",
    "df_quartiles.loc[:,\"price_per_sqft\"] = (df_quartiles[\"price_per_sqft\"]-mu)/std   \n",
    "#Standarising the data or converting into ZScores,don't use df[\"price_per_sqft\"] since it's raw unfiltered data"
   ]
  },
  {
   "cell_type": "code",
   "execution_count": 74,
   "id": "c74684f6",
   "metadata": {},
   "outputs": [
    {
     "data": {
      "text/plain": [
       "'For any outlier removal using ZScore , subtracting the mean centers the data, and scaling with std preserves symmetry around mean'"
      ]
     },
     "execution_count": 74,
     "metadata": {},
     "output_type": "execute_result"
    },
    {
     "data": {
      "image/png": "[encoded data removed]",
      "text/plain": [
       "<Figure size 640x480 with 1 Axes>"
      ]
     },
     "metadata": {},
     "output_type": "display_data"
    }
   ],
   "source": [
    "df_normal = df_quartiles[np.abs(df_quartiles[\"price_per_sqft\"])<(4*std)]\n",
    "count,bins,plot = plt.hist(df_normal[\"price_per_sqft\"],bins=30,density=True)     \n",
    "# \"\"\"plt.hist gives two arrays - first contains frequencies corresponding to each bar and 2nd contains edge values of each bar , density = True returns probability that the values lies\n",
    "# within this range rather than just frequencies .\"\"\"\n",
    "min,max = df_normal[\"price_per_sqft\"].min(),df_normal[\"price_per_sqft\"].max()\n",
    "x = np.linspace(min,max,100)\n",
    "p = norm.pdf(x,df_normal[\"price_per_sqft\"].mean(),df_normal[\"price_per_sqft\"].std())\n",
    "plt.plot(x,p,label = \"Normal Distribution\")\n",
    "plt.xlabel(\"Price per sqft\")\n",
    "plt.ylabel(\"Density\")\n",
    "plt.title(\"Histogram with Bell Curve\")\n",
    "plt.legend()\n",
    "\"\"\"For any outlier removal using ZScore , subtracting the mean centers the data, and scaling with std preserves symmetry around mean\"\"\""
   ]
  },
  {
   "cell_type": "code",
   "execution_count": 89,
   "id": "b840dd37",
   "metadata": {},
   "outputs": [
    {
     "data": {
      "text/plain": [
       "\"You're trying to filter out outliers using Z-scores — but you're calculating the mean and standard deviation on the full (unfiltered) dataset, which includes extreme outliers.\\nWhy the Histogram Looks Wrong:\\n\\nOutliers inflate the mean → pulls the center of the distribution to the right.\\n\\nOutliers inflate the std → stretches the scale, so even moderate values appear closer to zero.\\n\\nSo when you apply np.abs(z) < 3 * std1, you think you're keeping “normal” data — but the scale is warped.\\n\\nThis makes the histogram look compressed or lopsided, and the normal curve won't align properly.\\n\\n\""
      ]
     },
     "execution_count": 89,
     "metadata": {},
     "output_type": "execute_result"
    },
    {
     "data": {
      "image/png": "[encoded data removed]",
      "text/plain": [
       "<Figure size 640x480 with 1 Axes>"
      ]
     },
     "metadata": {},
     "output_type": "display_data"
    }
   ],
   "source": [
    "std1,mu1 = df[\"price_per_sqft\"].std(),df[\"price_per_sqft\"].mean()\n",
    "df1 = df.copy()\n",
    "df1.loc[:,\"price_per_sqft\"] = (df1[\"price_per_sqft\"]-mu1)/std1    #Calculating ZScore\n",
    "a = df1[np.abs(df1[\"price_per_sqft\"])<(0.1*std1)]\n",
    "count,bins,plot = plt.hist(a[\"price_per_sqft\"],bins=7,density=True)\n",
    "\n",
    "\"\"\"You're trying to filter out outliers using Z-scores — but you're calculating the mean and standard deviation on the full (unfiltered) dataset, which includes extreme outliers.\n",
    "Why the Histogram Looks Wrong:\n",
    "\n",
    "Outliers inflate the mean → pulls the center of the distribution to the right.\n",
    "\n",
    "Outliers inflate the std → stretches the scale, so even moderate values appear closer to zero.\n",
    "\n",
    "So when you apply np.abs(z) < 3 * std1, you think you're keeping “normal” data — but the scale is warped.\n",
    "\n",
    "This makes the histogram look compressed or lopsided, and the normal curve won't align properly.\n",
    "\n",
    "\"\"\""
   ]
  }
 ],
 "metadata": {
  "kernelspec": {
   "display_name": "ml",
   "language": "python",
   "name": "python3"
  },
  "language_info": {
   "codemirror_mode": {
    "name": "ipython",
    "version": 3
   },
   "file_extension": ".py",
   "mimetype": "text/x-python",
   "name": "python",
   "nbconvert_exporter": "python",
   "pygments_lexer": "ipython3",
   "version": "3.10.6"
  }
 },
 "nbformat": 4,
 "nbformat_minor": 5
}
